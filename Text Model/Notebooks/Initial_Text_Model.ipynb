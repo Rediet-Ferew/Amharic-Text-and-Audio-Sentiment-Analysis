{
  "nbformat": 4,
  "nbformat_minor": 0,
  "metadata": {
    "colab": {
      "provenance": []
    },
    "kernelspec": {
      "name": "python3",
      "display_name": "Python 3"
    },
    "language_info": {
      "name": "python"
    }
  },
  "cells": [
    {
      "cell_type": "markdown",
      "source": [
        "# Imports and Dataset Loading"
      ],
      "metadata": {
        "id": "zuiXn2ipao6A"
      }
    },
    {
      "cell_type": "code",
      "source": [
        "from google.colab import drive\n",
        "drive.mount('/content/drive')"
      ],
      "metadata": {
        "colab": {
          "base_uri": "https://localhost:8080/"
        },
        "id": "hbC1qDPbRj8d",
        "outputId": "479c1f2a-7dca-4f26-b073-3b3fcefd2401"
      },
      "execution_count": null,
      "outputs": [
        {
          "output_type": "stream",
          "name": "stdout",
          "text": [
            "Mounted at /content/drive\n"
          ]
        }
      ]
    },
    {
      "cell_type": "code",
      "source": [
        "import os\n",
        "import io\n",
        "import pandas as pd\n",
        "import numpy as np\n",
        "from sklearn.svm import SVC\n",
        "from sklearn.model_selection import train_test_split\n",
        "from sklearn.feature_extraction.text import TfidfVectorizer\n",
        "from sklearn.naive_bayes import MultinomialNB\n",
        "from sklearn.metrics import accuracy_score, classification_report\n",
        "from sklearn.linear_model import LogisticRegression\n",
        "from sklearn.naive_bayes import MultinomialNB\n",
        "from sklearn.ensemble import RandomForestClassifier\n",
        "from xgboost import XGBClassifier\n",
        "from tensorflow.keras.models import Sequential\n",
        "from tensorflow.keras.layers import Dense\n",
        "from sklearn.model_selection import train_test_split\n",
        "from sklearn.feature_extraction.text import TfidfVectorizer\n",
        "from sklearn.preprocessing import LabelEncoder"
      ],
      "metadata": {
        "id": "mcYcq9fyxKDh"
      },
      "execution_count": null,
      "outputs": []
    },
    {
      "cell_type": "markdown",
      "source": [
        "# **Load Data**"
      ],
      "metadata": {
        "id": "9KXVpeCA9aTt"
      }
    },
    {
      "cell_type": "code",
      "source": [
        "import pandas as pd\n",
        "\n",
        "\n",
        "file_path = '/content/drive/MyDrive/all_data.csv'\n",
        "\n",
        "\n",
        "df = pd.read_csv(file_path)\n",
        "df.head(10)"
      ],
      "metadata": {
        "id": "pUTzwIOw_XBB",
        "colab": {
          "base_uri": "https://localhost:8080/",
          "height": 363
        },
        "outputId": "f73fe6b8-a611-476b-814a-dd427e75042b"
      },
      "execution_count": null,
      "outputs": [
        {
          "output_type": "execute_result",
          "data": {
            "text/plain": [
              "                                                text label  type\n",
              "0     መካን ሴት ከማንም ጋር መጋባት የለባትም ምክንያቱም ይህ ፍትሃዊ አይደለም  hate     5\n",
              "1                     ብሪተኖች ፋሺስቶች እንዳልሆኑ በመስማቴ ታምኛለሁ  hate     5\n",
              "2  እንደ አንድ ነገር መለየት እውነት አያደርገውም። ሰዎች በቀዶ ሕክምና ራሳ...  hate     5\n",
              "3                ሁሉም ሴቶች ቢሰበሰቡ በደም ገንዳ ውስጥ እንሰጥም ነበር  hate     5\n",
              "4                ቲቪ ጥቁሮችን እንደ ጠበኛ ወንጀለኞች በትክክል ይወክላል  hate     5\n",
              "5                ወደ እኔ መጥቶ ለመለመን ድፍረቱ ያለው ዲንዱ ዛሬ አየሁ  hate     5\n",
              "6                            ትራንስ ወላጆች ሕፃን አጥፊዎች ናቸው  hate     5\n",
              "7                            ሁሉም ሴቶች የአይጥ እባቦች ናቸው።   hate     5\n",
              "8  እኔ ራሴን ወደ ሀገር ቤት ለሚመጡ እና ሁሉም ነገር ያለኝን መስሎ የሚታየ...  hate     5\n",
              "9                    መካን ሴቶች መራባት ባለመቻላቸው የበታች ናቸው።   hate     5"
            ],
            "text/html": [
              "\n",
              "  <div id=\"df-4bf01f34-4dce-4b36-b43b-9b564a883d31\" class=\"colab-df-container\">\n",
              "    <div>\n",
              "<style scoped>\n",
              "    .dataframe tbody tr th:only-of-type {\n",
              "        vertical-align: middle;\n",
              "    }\n",
              "\n",
              "    .dataframe tbody tr th {\n",
              "        vertical-align: top;\n",
              "    }\n",
              "\n",
              "    .dataframe thead th {\n",
              "        text-align: right;\n",
              "    }\n",
              "</style>\n",
              "<table border=\"1\" class=\"dataframe\">\n",
              "  <thead>\n",
              "    <tr style=\"text-align: right;\">\n",
              "      <th></th>\n",
              "      <th>text</th>\n",
              "      <th>label</th>\n",
              "      <th>type</th>\n",
              "    </tr>\n",
              "  </thead>\n",
              "  <tbody>\n",
              "    <tr>\n",
              "      <th>0</th>\n",
              "      <td>መካን ሴት ከማንም ጋር መጋባት የለባትም ምክንያቱም ይህ ፍትሃዊ አይደለም</td>\n",
              "      <td>hate</td>\n",
              "      <td>5</td>\n",
              "    </tr>\n",
              "    <tr>\n",
              "      <th>1</th>\n",
              "      <td>ብሪተኖች ፋሺስቶች እንዳልሆኑ በመስማቴ ታምኛለሁ</td>\n",
              "      <td>hate</td>\n",
              "      <td>5</td>\n",
              "    </tr>\n",
              "    <tr>\n",
              "      <th>2</th>\n",
              "      <td>እንደ አንድ ነገር መለየት እውነት አያደርገውም። ሰዎች በቀዶ ሕክምና ራሳ...</td>\n",
              "      <td>hate</td>\n",
              "      <td>5</td>\n",
              "    </tr>\n",
              "    <tr>\n",
              "      <th>3</th>\n",
              "      <td>ሁሉም ሴቶች ቢሰበሰቡ በደም ገንዳ ውስጥ እንሰጥም ነበር</td>\n",
              "      <td>hate</td>\n",
              "      <td>5</td>\n",
              "    </tr>\n",
              "    <tr>\n",
              "      <th>4</th>\n",
              "      <td>ቲቪ ጥቁሮችን እንደ ጠበኛ ወንጀለኞች በትክክል ይወክላል</td>\n",
              "      <td>hate</td>\n",
              "      <td>5</td>\n",
              "    </tr>\n",
              "    <tr>\n",
              "      <th>5</th>\n",
              "      <td>ወደ እኔ መጥቶ ለመለመን ድፍረቱ ያለው ዲንዱ ዛሬ አየሁ</td>\n",
              "      <td>hate</td>\n",
              "      <td>5</td>\n",
              "    </tr>\n",
              "    <tr>\n",
              "      <th>6</th>\n",
              "      <td>ትራንስ ወላጆች ሕፃን አጥፊዎች ናቸው</td>\n",
              "      <td>hate</td>\n",
              "      <td>5</td>\n",
              "    </tr>\n",
              "    <tr>\n",
              "      <th>7</th>\n",
              "      <td>ሁሉም ሴቶች የአይጥ እባቦች ናቸው።</td>\n",
              "      <td>hate</td>\n",
              "      <td>5</td>\n",
              "    </tr>\n",
              "    <tr>\n",
              "      <th>8</th>\n",
              "      <td>እኔ ራሴን ወደ ሀገር ቤት ለሚመጡ እና ሁሉም ነገር ያለኝን መስሎ የሚታየ...</td>\n",
              "      <td>hate</td>\n",
              "      <td>5</td>\n",
              "    </tr>\n",
              "    <tr>\n",
              "      <th>9</th>\n",
              "      <td>መካን ሴቶች መራባት ባለመቻላቸው የበታች ናቸው።</td>\n",
              "      <td>hate</td>\n",
              "      <td>5</td>\n",
              "    </tr>\n",
              "  </tbody>\n",
              "</table>\n",
              "</div>\n",
              "    <div class=\"colab-df-buttons\">\n",
              "\n",
              "  <div class=\"colab-df-container\">\n",
              "    <button class=\"colab-df-convert\" onclick=\"convertToInteractive('df-4bf01f34-4dce-4b36-b43b-9b564a883d31')\"\n",
              "            title=\"Convert this dataframe to an interactive table.\"\n",
              "            style=\"display:none;\">\n",
              "\n",
              "  <svg xmlns=\"http://www.w3.org/2000/svg\" height=\"24px\" viewBox=\"0 -960 960 960\">\n",
              "    <path d=\"M120-120v-720h720v720H120Zm60-500h600v-160H180v160Zm220 220h160v-160H400v160Zm0 220h160v-160H400v160ZM180-400h160v-160H180v160Zm440 0h160v-160H620v160ZM180-180h160v-160H180v160Zm440 0h160v-160H620v160Z\"/>\n",
              "  </svg>\n",
              "    </button>\n",
              "\n",
              "  <style>\n",
              "    .colab-df-container {\n",
              "      display:flex;\n",
              "      gap: 12px;\n",
              "    }\n",
              "\n",
              "    .colab-df-convert {\n",
              "      background-color: #E8F0FE;\n",
              "      border: none;\n",
              "      border-radius: 50%;\n",
              "      cursor: pointer;\n",
              "      display: none;\n",
              "      fill: #1967D2;\n",
              "      height: 32px;\n",
              "      padding: 0 0 0 0;\n",
              "      width: 32px;\n",
              "    }\n",
              "\n",
              "    .colab-df-convert:hover {\n",
              "      background-color: #E2EBFA;\n",
              "      box-shadow: 0px 1px 2px rgba(60, 64, 67, 0.3), 0px 1px 3px 1px rgba(60, 64, 67, 0.15);\n",
              "      fill: #174EA6;\n",
              "    }\n",
              "\n",
              "    .colab-df-buttons div {\n",
              "      margin-bottom: 4px;\n",
              "    }\n",
              "\n",
              "    [theme=dark] .colab-df-convert {\n",
              "      background-color: #3B4455;\n",
              "      fill: #D2E3FC;\n",
              "    }\n",
              "\n",
              "    [theme=dark] .colab-df-convert:hover {\n",
              "      background-color: #434B5C;\n",
              "      box-shadow: 0px 1px 3px 1px rgba(0, 0, 0, 0.15);\n",
              "      filter: drop-shadow(0px 1px 2px rgba(0, 0, 0, 0.3));\n",
              "      fill: #FFFFFF;\n",
              "    }\n",
              "  </style>\n",
              "\n",
              "    <script>\n",
              "      const buttonEl =\n",
              "        document.querySelector('#df-4bf01f34-4dce-4b36-b43b-9b564a883d31 button.colab-df-convert');\n",
              "      buttonEl.style.display =\n",
              "        google.colab.kernel.accessAllowed ? 'block' : 'none';\n",
              "\n",
              "      async function convertToInteractive(key) {\n",
              "        const element = document.querySelector('#df-4bf01f34-4dce-4b36-b43b-9b564a883d31');\n",
              "        const dataTable =\n",
              "          await google.colab.kernel.invokeFunction('convertToInteractive',\n",
              "                                                    [key], {});\n",
              "        if (!dataTable) return;\n",
              "\n",
              "        const docLinkHtml = 'Like what you see? Visit the ' +\n",
              "          '<a target=\"_blank\" href=https://colab.research.google.com/notebooks/data_table.ipynb>data table notebook</a>'\n",
              "          + ' to learn more about interactive tables.';\n",
              "        element.innerHTML = '';\n",
              "        dataTable['output_type'] = 'display_data';\n",
              "        await google.colab.output.renderOutput(dataTable, element);\n",
              "        const docLink = document.createElement('div');\n",
              "        docLink.innerHTML = docLinkHtml;\n",
              "        element.appendChild(docLink);\n",
              "      }\n",
              "    </script>\n",
              "  </div>\n",
              "\n",
              "\n",
              "<div id=\"df-0a358d5c-c560-4133-985f-d35c3a5114c4\">\n",
              "  <button class=\"colab-df-quickchart\" onclick=\"quickchart('df-0a358d5c-c560-4133-985f-d35c3a5114c4')\"\n",
              "            title=\"Suggest charts\"\n",
              "            style=\"display:none;\">\n",
              "\n",
              "<svg xmlns=\"http://www.w3.org/2000/svg\" height=\"24px\"viewBox=\"0 0 24 24\"\n",
              "     width=\"24px\">\n",
              "    <g>\n",
              "        <path d=\"M19 3H5c-1.1 0-2 .9-2 2v14c0 1.1.9 2 2 2h14c1.1 0 2-.9 2-2V5c0-1.1-.9-2-2-2zM9 17H7v-7h2v7zm4 0h-2V7h2v10zm4 0h-2v-4h2v4z\"/>\n",
              "    </g>\n",
              "</svg>\n",
              "  </button>\n",
              "\n",
              "<style>\n",
              "  .colab-df-quickchart {\n",
              "      --bg-color: #E8F0FE;\n",
              "      --fill-color: #1967D2;\n",
              "      --hover-bg-color: #E2EBFA;\n",
              "      --hover-fill-color: #174EA6;\n",
              "      --disabled-fill-color: #AAA;\n",
              "      --disabled-bg-color: #DDD;\n",
              "  }\n",
              "\n",
              "  [theme=dark] .colab-df-quickchart {\n",
              "      --bg-color: #3B4455;\n",
              "      --fill-color: #D2E3FC;\n",
              "      --hover-bg-color: #434B5C;\n",
              "      --hover-fill-color: #FFFFFF;\n",
              "      --disabled-bg-color: #3B4455;\n",
              "      --disabled-fill-color: #666;\n",
              "  }\n",
              "\n",
              "  .colab-df-quickchart {\n",
              "    background-color: var(--bg-color);\n",
              "    border: none;\n",
              "    border-radius: 50%;\n",
              "    cursor: pointer;\n",
              "    display: none;\n",
              "    fill: var(--fill-color);\n",
              "    height: 32px;\n",
              "    padding: 0;\n",
              "    width: 32px;\n",
              "  }\n",
              "\n",
              "  .colab-df-quickchart:hover {\n",
              "    background-color: var(--hover-bg-color);\n",
              "    box-shadow: 0 1px 2px rgba(60, 64, 67, 0.3), 0 1px 3px 1px rgba(60, 64, 67, 0.15);\n",
              "    fill: var(--button-hover-fill-color);\n",
              "  }\n",
              "\n",
              "  .colab-df-quickchart-complete:disabled,\n",
              "  .colab-df-quickchart-complete:disabled:hover {\n",
              "    background-color: var(--disabled-bg-color);\n",
              "    fill: var(--disabled-fill-color);\n",
              "    box-shadow: none;\n",
              "  }\n",
              "\n",
              "  .colab-df-spinner {\n",
              "    border: 2px solid var(--fill-color);\n",
              "    border-color: transparent;\n",
              "    border-bottom-color: var(--fill-color);\n",
              "    animation:\n",
              "      spin 1s steps(1) infinite;\n",
              "  }\n",
              "\n",
              "  @keyframes spin {\n",
              "    0% {\n",
              "      border-color: transparent;\n",
              "      border-bottom-color: var(--fill-color);\n",
              "      border-left-color: var(--fill-color);\n",
              "    }\n",
              "    20% {\n",
              "      border-color: transparent;\n",
              "      border-left-color: var(--fill-color);\n",
              "      border-top-color: var(--fill-color);\n",
              "    }\n",
              "    30% {\n",
              "      border-color: transparent;\n",
              "      border-left-color: var(--fill-color);\n",
              "      border-top-color: var(--fill-color);\n",
              "      border-right-color: var(--fill-color);\n",
              "    }\n",
              "    40% {\n",
              "      border-color: transparent;\n",
              "      border-right-color: var(--fill-color);\n",
              "      border-top-color: var(--fill-color);\n",
              "    }\n",
              "    60% {\n",
              "      border-color: transparent;\n",
              "      border-right-color: var(--fill-color);\n",
              "    }\n",
              "    80% {\n",
              "      border-color: transparent;\n",
              "      border-right-color: var(--fill-color);\n",
              "      border-bottom-color: var(--fill-color);\n",
              "    }\n",
              "    90% {\n",
              "      border-color: transparent;\n",
              "      border-bottom-color: var(--fill-color);\n",
              "    }\n",
              "  }\n",
              "</style>\n",
              "\n",
              "  <script>\n",
              "    async function quickchart(key) {\n",
              "      const quickchartButtonEl =\n",
              "        document.querySelector('#' + key + ' button');\n",
              "      quickchartButtonEl.disabled = true;  // To prevent multiple clicks.\n",
              "      quickchartButtonEl.classList.add('colab-df-spinner');\n",
              "      try {\n",
              "        const charts = await google.colab.kernel.invokeFunction(\n",
              "            'suggestCharts', [key], {});\n",
              "      } catch (error) {\n",
              "        console.error('Error during call to suggestCharts:', error);\n",
              "      }\n",
              "      quickchartButtonEl.classList.remove('colab-df-spinner');\n",
              "      quickchartButtonEl.classList.add('colab-df-quickchart-complete');\n",
              "    }\n",
              "    (() => {\n",
              "      let quickchartButtonEl =\n",
              "        document.querySelector('#df-0a358d5c-c560-4133-985f-d35c3a5114c4 button');\n",
              "      quickchartButtonEl.style.display =\n",
              "        google.colab.kernel.accessAllowed ? 'block' : 'none';\n",
              "    })();\n",
              "  </script>\n",
              "</div>\n",
              "\n",
              "    </div>\n",
              "  </div>\n"
            ],
            "application/vnd.google.colaboratory.intrinsic+json": {
              "type": "dataframe",
              "variable_name": "df",
              "summary": "{\n  \"name\": \"df\",\n  \"rows\": 42302,\n  \"fields\": [\n    {\n      \"column\": \"text\",\n      \"properties\": {\n        \"dtype\": \"string\",\n        \"num_unique_values\": 36665,\n        \"samples\": [\n          \"\\u12a8\\u121b\\u1235\\u1348\\u122b\\u122b\\u1275 \\u1260\\u134a\\u1275 \\u1218\\u1300\\u1218\\u122a\\u12eb \\u1348\\u122a \\u121b\\u130d\\u1298\\u1275 \\u12a5\\u122d\\u130d\\u1320\\u129b \\u130d\\u12f5 \\u12ed\\u120b\\u120d\",\n          \"\\u12e8\\u12f2\\u12eb\\u1262\\u120e\\u1235 \\u1270\\u120b\\u120b\\u12aa \\u12e8\\u12a2\\u1209\\u121a\\u1293\\u1272\\u12cd \\u12a0\\u1235\\u1348\\u1343\\u121a\\u12ce\\u127d \\u12f0\\u121d \\u1218\\u1323\\u132e\\u1279 \\u134d\\u122d\\u12f1\\u1295 \\u12a8\\u12a5\\u130d\\u12da\\u12a0\\u1265\\u1204\\u122d \\u121d\\u1295\\u1320\\u1265\\u1240\\u12cd\\u134d\\u1275\\u1205 \\u12e8\\u121b\\u12eb\\u1313\\u12f5\\u120d \\u12e8\\u121b\\u12eb\\u12f3\\u120b\\u12cd \\u12e8\\u12a0\\u1208\\u1219 \\u1308\\u12e2 \\u12e8\\u1230\\u121b\\u12e9 \\u130c\\u1273 \\u12e8\\u121d\\u12f5\\u1229\\u121d \\u1263\\u1208\\u1264\\u1275 \\u134d\\u122d\\u12f5 \\u1262\\u12d8\\u1308\\u12ed\\u121d \\u1348\\u1345\\u121e \\u12a0\\u12ed\\u1240\\u122d\\u121d\",\n          \"\\u12e8\\u12a0\\u121b\\u122b \\u1265\\u1204\\u122b\\u12ca \\u1295\\u1245\\u1293\\u1244 \\u12a0\\u1265\\u1295 \\u12a0\\u1235\\u1348\\u133b\\u121a\\u12ce\\u127d \\u12a0\\u12f2\\u1235 \\u12a0\\u1260\\u1263 \\u1260\\u121a\\u1308\\u1298\\u12cd \\u1260\\u1235\\u1265\\u1230\\u1263 \\u1230\\u122b\\u12ca\\u1275 \\u1270\\u12a8\\u1260\\u12cb\\u120d \\u12a0\\u1218\\u122b\\u122e\\u1279 \\u1230\\u120b\\u121b\\u12ca \\u1230\\u120d\\u1349\\u1295 \\u130b\\u12dc\\u1323\\u12ca \\u1218\\u130d\\u1208\\u132b \\u1208\\u1218\\u1235\\u1320\\u1275\\u1293 \\u12cd\\u1233\\u1294 \\u1208\\u121b\\u1233\\u1208\\u134d \\u12a8\\u1275\\u1293\\u1295\\u1275 \\u1300\\u121d\\u1228\\u12cd \\u1260\\u1235\\u122b \\u12e8\\u121a\\u1273\\u12c8\\u1245 \\u1230\\u12a0\\u1275 \\u1260\\u1218\\u1295\\u130d\\u1235\\u1275 \\u1230\\u122b\\u12ca\\u1275 \\u1273\\u130d\\u1270\\u12cb\\u120d \\u1260\\u12ad\\u120d\\u1209 \\u12a8\\u1270\\u121e\\u127d \\u1218\\u1275\\u1228\\u12e8\\u1235 \\u12e8\\u1273\\u1320\\u1240 \\u1230\\u122b\\u12ca\\u1275 \\u12a8\\u1270\\u121e\\u127d\\u1295 \\u1353\\u1275\\u122e\\u120d \\u12a5\\u12eb\\u12f0\\u1228\\u1308 \\u1205\\u12dd\\u1261\\u1295 \\u121b\\u1235\\u1348\\u122b\\u122b\\u1275 \\u1240\\u1325\\u120e\\u1260\\u1273\\u120d \\u12d8\\u122a\\u1201\\u1295 \\u1308\\u1230\\u1230\"\n        ],\n        \"semantic_type\": \"\",\n        \"description\": \"\"\n      }\n    },\n    {\n      \"column\": \"label\",\n      \"properties\": {\n        \"dtype\": \"category\",\n        \"num_unique_values\": 3,\n        \"samples\": [\n          \"hate\",\n          \"threat\",\n          \"normal\"\n        ],\n        \"semantic_type\": \"\",\n        \"description\": \"\"\n      }\n    },\n    {\n      \"column\": \"type\",\n      \"properties\": {\n        \"dtype\": \"number\",\n        \"std\": 2,\n        \"min\": 0,\n        \"max\": 5,\n        \"num_unique_values\": 6,\n        \"samples\": [\n          5,\n          2,\n          0\n        ],\n        \"semantic_type\": \"\",\n        \"description\": \"\"\n      }\n    }\n  ]\n}"
            }
          },
          "metadata": {},
          "execution_count": 4
        }
      ]
    },
    {
      "cell_type": "markdown",
      "source": [
        "# **Data Processing**"
      ],
      "metadata": {
        "id": "owK2DbnJ8pRQ"
      }
    },
    {
      "cell_type": "code",
      "source": [
        "file_path = '/content/drive/MyDrive/NLP/DS_Cleaned.csv'\n",
        "df = pd.read_csv(file_path)"
      ],
      "metadata": {
        "id": "b9p61nxgwD8N"
      },
      "execution_count": null,
      "outputs": []
    },
    {
      "cell_type": "code",
      "source": [
        "# Assuming your DataFrame has 'Text' and 'Label' columns\n",
        "# Replace 'Text' and 'Label' with the actual column names if different\n",
        "\n",
        "# Split the data into training, validation, and test sets\n",
        "train_data, test_data, train_labels, test_labels = train_test_split(\n",
        "    df['text'], df['label'],\n",
        "    test_size=0.25,  # You can adjust the test size\n",
        "    random_state=42\n",
        ")\n",
        "\n",
        "# Further split the training data into training and validation sets\n",
        "train_data, valid_data, train_labels, valid_labels = train_test_split(\n",
        "    train_data, train_labels,\n",
        "    test_size=0.2,  # You can adjust the validation size\n",
        "    random_state=42\n",
        ")\n",
        "\n",
        "# Initialize the TF-IDF Vectorizer\n",
        "vectorizer = TfidfVectorizer( )# You can adjust the minimum document frequency\n",
        "\n",
        "# Fit and transform the training data\n",
        "train_vectors = vectorizer.fit_transform(train_data)\n",
        "\n",
        "# Transform the validation and test data\n",
        "valid_vectors = vectorizer.transform(valid_data)\n",
        "test_vectors = vectorizer.transform(test_data)\n",
        "\n",
        "# Label encoding for the target variable\n",
        "le = LabelEncoder()\n",
        "train_labels_encoded = le.fit_transform(train_labels)\n",
        "valid_labels_encoded = le.transform(valid_labels)\n",
        "test_labels_encoded = le.transform(test_labels)\n",
        "\n",
        "# Print the vocabulary (optional)\n",
        "print(\"Vocabulary:\", len(vectorizer.get_feature_names_out()))\n",
        "\n",
        "# Convert sparse matrices to dense NumPy arrays (optional)\n",
        "train_vectors_dense = train_vectors.toarray()\n",
        "valid_vectors_dense = valid_vectors.toarray()\n",
        "test_vectors_dense = test_vectors.toarray()\n",
        "\n",
        "# Now you can use train_vectors_dense, valid_vectors_dense, and test_vectors_dense in your model\n",
        "# Also, use train_labels_encoded, valid_labels_encoded, and test_labels_encoded as your target labels\n"
      ],
      "metadata": {
        "id": "oBFY-TuHxdTr",
        "colab": {
          "base_uri": "https://localhost:8080/"
        },
        "outputId": "a189c25e-4bb9-4994-fa11-daa48b22eb23"
      },
      "execution_count": null,
      "outputs": [
        {
          "output_type": "stream",
          "name": "stdout",
          "text": [
            "Vocabulary: 11144\n"
          ]
        }
      ]
    },
    {
      "cell_type": "code",
      "source": [],
      "metadata": {
        "id": "l1GdH1IuxlB2"
      },
      "execution_count": null,
      "outputs": []
    },
    {
      "cell_type": "markdown",
      "source": [
        "# **Neural Network Model**"
      ],
      "metadata": {
        "id": "5h-Xp_y8x7bG"
      }
    },
    {
      "cell_type": "code",
      "source": [
        "import tensorflow as tf\n",
        "from tensorflow.keras.models import Sequential\n",
        "from tensorflow.keras.layers import Dense, Dropout\n",
        "from sklearn.metrics import accuracy_score\n",
        "\n",
        "# Define the neural network model\n",
        "model = Sequential()\n",
        "model.add(Dense(256, input_shape=(len(vectorizer.get_feature_names_out()),), activation='relu'))\n",
        "model.add(Dropout(0.5))\n",
        "model.add(Dense(128, activation='relu'))\n",
        "model.add(Dropout(0.5))\n",
        "model.add(Dense(1, activation='sigmoid'))\n",
        "\n",
        "# Compile the model\n",
        "model.compile(optimizer='adam', loss='binary_crossentropy', metrics=['accuracy'])\n",
        "\n",
        "# Train the model\n",
        "model.fit(train_vectors_dense, train_labels_encoded, epochs=20, batch_size=32, validation_data=(valid_vectors_dense, valid_labels_encoded))\n",
        "\n",
        "# Evaluate the model on the test set\n",
        "predictions = (model.predict(test_vectors_dense) > 0.5).astype(int)\n",
        "accuracy = accuracy_score(test_labels_encoded, predictions)\n",
        "print(\"Test Accuracy:\", accuracy)\n",
        "\n",
        "print(predictions==test_vectors_dense)"
      ],
      "metadata": {
        "id": "uSXmbHvlyDrw",
        "colab": {
          "base_uri": "https://localhost:8080/"
        },
        "outputId": "8f2773ac-4af2-4ef0-caff-9ba04fab90f6"
      },
      "execution_count": null,
      "outputs": [
        {
          "output_type": "stream",
          "name": "stdout",
          "text": [
            "Epoch 1/20\n",
            "55/55 [==============================] - 5s 61ms/step - loss: 0.6129 - accuracy: 0.6776 - val_loss: 0.5160 - val_accuracy: 0.6972\n",
            "Epoch 2/20\n",
            "55/55 [==============================] - 3s 48ms/step - loss: 0.4203 - accuracy: 0.7493 - val_loss: 0.3785 - val_accuracy: 0.8417\n",
            "Epoch 3/20\n",
            "55/55 [==============================] - 4s 65ms/step - loss: 0.1493 - accuracy: 0.9690 - val_loss: 0.3103 - val_accuracy: 0.8830\n",
            "Epoch 4/20\n",
            "55/55 [==============================] - 3s 52ms/step - loss: 0.0330 - accuracy: 0.9908 - val_loss: 0.4228 - val_accuracy: 0.8899\n",
            "Epoch 5/20\n",
            "55/55 [==============================] - 2s 43ms/step - loss: 0.0095 - accuracy: 0.9989 - val_loss: 0.4315 - val_accuracy: 0.8899\n",
            "Epoch 6/20\n",
            "55/55 [==============================] - 2s 45ms/step - loss: 0.0043 - accuracy: 0.9994 - val_loss: 0.4382 - val_accuracy: 0.8876\n",
            "Epoch 7/20\n",
            "55/55 [==============================] - 3s 58ms/step - loss: 0.0038 - accuracy: 0.9994 - val_loss: 0.4957 - val_accuracy: 0.8876\n",
            "Epoch 8/20\n",
            "55/55 [==============================] - 3s 63ms/step - loss: 0.0022 - accuracy: 0.9994 - val_loss: 0.5093 - val_accuracy: 0.8876\n",
            "Epoch 9/20\n",
            "55/55 [==============================] - 3s 55ms/step - loss: 0.0027 - accuracy: 0.9994 - val_loss: 0.5473 - val_accuracy: 0.8899\n",
            "Epoch 10/20\n",
            "55/55 [==============================] - 2s 44ms/step - loss: 0.0015 - accuracy: 0.9994 - val_loss: 0.5854 - val_accuracy: 0.8876\n",
            "Epoch 11/20\n",
            "55/55 [==============================] - 2s 41ms/step - loss: 8.1318e-04 - accuracy: 1.0000 - val_loss: 0.6139 - val_accuracy: 0.8830\n",
            "Epoch 12/20\n",
            "55/55 [==============================] - 3s 47ms/step - loss: 0.0013 - accuracy: 0.9994 - val_loss: 0.6158 - val_accuracy: 0.8853\n",
            "Epoch 13/20\n",
            "55/55 [==============================] - 4s 65ms/step - loss: 0.0015 - accuracy: 0.9994 - val_loss: 0.7191 - val_accuracy: 0.8417\n",
            "Epoch 14/20\n",
            "55/55 [==============================] - 3s 47ms/step - loss: 0.0012 - accuracy: 0.9994 - val_loss: 0.6690 - val_accuracy: 0.8807\n",
            "Epoch 15/20\n",
            "55/55 [==============================] - 2s 43ms/step - loss: 9.3926e-04 - accuracy: 0.9994 - val_loss: 0.7245 - val_accuracy: 0.8440\n",
            "Epoch 16/20\n",
            "55/55 [==============================] - 2s 45ms/step - loss: 0.0012 - accuracy: 0.9994 - val_loss: 0.7457 - val_accuracy: 0.8417\n",
            "Epoch 17/20\n",
            "55/55 [==============================] - 2s 45ms/step - loss: 2.4693e-04 - accuracy: 1.0000 - val_loss: 0.7152 - val_accuracy: 0.8417\n",
            "Epoch 18/20\n",
            "55/55 [==============================] - 4s 73ms/step - loss: 6.4786e-04 - accuracy: 0.9994 - val_loss: 0.8328 - val_accuracy: 0.8394\n",
            "Epoch 19/20\n",
            "55/55 [==============================] - 3s 52ms/step - loss: 3.4264e-04 - accuracy: 1.0000 - val_loss: 0.8119 - val_accuracy: 0.8394\n",
            "Epoch 20/20\n",
            "55/55 [==============================] - 2s 43ms/step - loss: 2.4647e-04 - accuracy: 1.0000 - val_loss: 0.7970 - val_accuracy: 0.8417\n",
            "23/23 [==============================] - 0s 9ms/step\n",
            "Test Accuracy: 0.8198074277854195\n",
            "[[False False False ... False False False]\n",
            " [ True  True  True ...  True  True  True]\n",
            " [ True  True  True ...  True  True  True]\n",
            " ...\n",
            " [ True  True  True ...  True  True  True]\n",
            " [ True  True  True ...  True  True  True]\n",
            " [ True  True  True ...  True  True  True]]\n"
          ]
        }
      ]
    },
    {
      "cell_type": "code",
      "source": [
        "import joblib\n",
        "\n",
        "# Save the trained model\n",
        "model_filename = 'cnn_model.pkl'\n",
        "joblib.dump(model, model_filename)\n",
        "\n",
        "# Save the TF-IDF vectorizer\n",
        "vectorizer_filename = 'tfidf_vectorizer.pkl'\n",
        "joblib.dump(vectorizer, vectorizer_filename)\n",
        "\n",
        "# Save the label encoder\n",
        "label_encoder_filename = 'label_encoder.pkl'\n",
        "joblib.dump(le, label_encoder_filename)\n"
      ],
      "metadata": {
        "id": "GV3tdFegyOND"
      },
      "execution_count": null,
      "outputs": []
    },
    {
      "cell_type": "code",
      "source": [
        "import joblib\n",
        "\n",
        "# Load the trained model\n",
        "model_filename = 'cnn_model.pkl'\n",
        "loaded_model = joblib.load(model_filename)\n",
        "\n",
        "# Load the TF-IDF vectorizer\n",
        "vectorizer_filename = 'tfidf_vectorizer.pkl'\n",
        "loaded_vectorizer = joblib.load(vectorizer_filename)\n",
        "\n",
        "# Load the label encoder\n",
        "label_encoder_filename = 'label_encoder.pkl'\n",
        "loaded_label_encoder = joblib.load(label_encoder_filename)\n",
        "\n",
        "print(loaded_label_encoder)\n",
        "custom_datae = [\"ወደ ሲኦል ሂድ\"]\n",
        "custom_data = [\"እወድሃለሁ\"]\n",
        "custom_vectors = loaded_vectorizer.transform(custom_data).toarray()\n",
        "custom_predictions = loaded_model.predict(custom_vectors)\n",
        "print(custom_predictions)\n",
        "custom_predictions = (custom_predictions> 0.5).astype(int).flatten()\n",
        "print(custom_predictions)\n",
        "\n",
        "decoded_predictions = loaded_label_encoder.inverse_transform(custom_predictions)\n",
        "print(decoded_predictions)"
      ],
      "metadata": {
        "id": "DdIyGlhByU-D"
      },
      "execution_count": null,
      "outputs": []
    },
    {
      "cell_type": "markdown",
      "source": [
        "# **Traditional Model**"
      ],
      "metadata": {
        "id": "oe9vyysXymJl"
      }
    },
    {
      "cell_type": "code",
      "source": [
        "# using logistic regression\n",
        "classifier = LogisticRegression()\n",
        "classifier.fit(train_vectors, train_labels)\n",
        "predictions = classifier.predict(test_vectors)\n",
        "\n",
        "accuracy = accuracy_score(test_labels, predictions)\n",
        "report = classification_report(test_labels, predictions)\n",
        "\n",
        "print(f'Accuracy: {accuracy:.2f}')\n",
        "print('Classification Report:\\n', report)"
      ],
      "metadata": {
        "id": "t5WxtEoG8xQ5",
        "colab": {
          "base_uri": "https://localhost:8080/"
        },
        "outputId": "cad0547c-e3ca-4747-8be5-35e48d3cb038"
      },
      "execution_count": null,
      "outputs": [
        {
          "output_type": "stream",
          "name": "stdout",
          "text": [
            "Accuracy: 0.74\n",
            "Classification Report:\n",
            "               precision    recall  f1-score   support\n",
            "\n",
            "           0       0.73      0.99      0.84       492\n",
            "           1       0.91      0.23      0.36       235\n",
            "\n",
            "    accuracy                           0.74       727\n",
            "   macro avg       0.82      0.61      0.60       727\n",
            "weighted avg       0.79      0.74      0.68       727\n",
            "\n"
          ]
        }
      ]
    },
    {
      "cell_type": "code",
      "source": [
        "# using bayesian\n",
        "classifier = MultinomialNB()\n",
        "classifier.fit(train_vectors, train_labels)\n",
        "predictions = classifier.predict(test_vectors)\n",
        "\n",
        "accuracy = accuracy_score(test_labels, predictions)\n",
        "report = classification_report(test_labels, predictions)\n",
        "\n",
        "print(f'Accuracy: {accuracy:.2f}')\n",
        "print('Classification Report:\\n', report)"
      ],
      "metadata": {
        "id": "N3NPl9U_AY6G",
        "colab": {
          "base_uri": "https://localhost:8080/"
        },
        "outputId": "54b05bbd-5d93-48aa-e47b-932ba5f0f312"
      },
      "execution_count": null,
      "outputs": [
        {
          "output_type": "stream",
          "name": "stdout",
          "text": [
            "Accuracy: 0.72\n",
            "Classification Report:\n",
            "               precision    recall  f1-score   support\n",
            "\n",
            "           0       0.71      1.00      0.83       492\n",
            "           1       1.00      0.13      0.23       235\n",
            "\n",
            "    accuracy                           0.72       727\n",
            "   macro avg       0.85      0.56      0.53       727\n",
            "weighted avg       0.80      0.72      0.63       727\n",
            "\n"
          ]
        }
      ]
    }
  ]
}